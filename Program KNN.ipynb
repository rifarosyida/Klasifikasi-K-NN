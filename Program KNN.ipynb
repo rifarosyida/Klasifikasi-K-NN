{
  "cells": [
    {
      "cell_type": "code",
      "execution_count": 30,
      "metadata": {
        "colab": {
          "base_uri": "https://localhost:8080/"
        },
        "id": "Qzu71X4O0YIC",
        "outputId": "8e70a98e-b58a-4040-eb83-00df48f6cf99"
      },
      "outputs": [
        {
          "name": "stdout",
          "output_type": "stream",
          "text": [
            "[4.47213595 4.12310563 2.23606798 4.         6.08276253 3.60555128\n",
            " 1.         3.         3.16227766 4.12310563 3.16227766 4.47213595]\n"
          ]
        }
      ],
      "source": [
        "import numpy as np\n",
        "import matplotlib.pyplot as plt\n",
        "\n",
        "x_train = np.array([\n",
        "    [26,8],\n",
        "    [26,11],\n",
        "    [29,8],\n",
        "    [34,10],\n",
        "    [36,11],\n",
        "    [33,8],\n",
        "    [30,9],\n",
        "    [27,10],\n",
        "    [27,11],\n",
        "    [26,11],\n",
        "    [31,13],\n",
        "    [34,8]\n",
        "])\n",
        "\n",
        "y_train=['Go','Go','Go','Stay','Stay','Go','Go','Go','Go','Go','Stay','Go']\n",
        "\n",
        "x_test = np.array([[30, 10]])\n",
        "\n",
        "#calculate euclidean distance\n",
        "dis = np.sqrt(np.sum((x_train-x_test)**2, axis=1))\n",
        "print(dis)"
      ]
    },
    {
      "cell_type": "code",
      "execution_count": 31,
      "metadata": {},
      "outputs": [
        {
          "name": "stdout",
          "output_type": "stream",
          "text": [
            "[6 2 7]\n",
            "['Go' 'Go' 'Go']\n"
          ]
        }
      ],
      "source": [
        "nn_sort=dis.argsort()[:3]\n",
        "print(nn_sort)\n",
        "nn_decision = np.take(y_train,nn_sort)\n",
        "print(nn_decision)\n"
      ]
    },
    {
      "cell_type": "code",
      "execution_count": 32,
      "metadata": {},
      "outputs": [
        {
          "data": {
            "text/plain": [
              "'Go'"
            ]
          },
          "execution_count": 32,
          "metadata": {},
          "output_type": "execute_result"
        }
      ],
      "source": [
        "from collections import Counter\n",
        "b= Counter(np.take(y_train,dis.argsort()[:3]))\n",
        "b.most_common(1)[0][0]"
      ]
    },
    {
      "cell_type": "code",
      "execution_count": 33,
      "metadata": {
        "colab": {
          "base_uri": "https://localhost:8080/"
        },
        "id": "6dkhexu58SYP",
        "outputId": "5b92c936-6a70-44d5-c1a3-6e9e7214b404"
      },
      "outputs": [
        {
          "name": "stdout",
          "output_type": "stream",
          "text": [
            "[[0]\n",
            " [0]\n",
            " [0]\n",
            " [1]\n",
            " [1]\n",
            " [0]\n",
            " [0]\n",
            " [0]\n",
            " [0]\n",
            " [0]\n",
            " [1]\n",
            " [0]]\n",
            "['Go']\n"
          ]
        }
      ],
      "source": [
        "from sklearn.preprocessing import LabelBinarizer\n",
        "from sklearn.neighbors import KNeighborsClassifier\n",
        "\n",
        "lb=LabelBinarizer()\n",
        "y_trainbin = lb.fit_transform(y_train)\n",
        "print(y_trainbin)\n",
        "\n",
        "k=3\n",
        "clf = KNeighborsClassifier(n_neighbors=k)\n",
        "clf.fit(x_train,y_trainbin.reshape(-1))\n",
        "pred_bin = clf.predict(np.array([x_test]).reshape(1,-1))[0]\n",
        "pred_label = lb.inverse_transform(pred_bin)\n",
        "print(pred_label)"
      ]
    },
    {
      "cell_type": "code",
      "execution_count": 34,
      "metadata": {
        "colab": {
          "base_uri": "https://localhost:8080/"
        },
        "id": "dq4XZq1j20df",
        "outputId": "b00e07e5-ffc6-4cf4-afb5-48331356461a"
      },
      "outputs": [
        {
          "name": "stdout",
          "output_type": "stream",
          "text": [
            "label biner:[1 0 0 1 0]\n",
            "['Go' 'Go' 'Go' 'Stay' 'Go']\n"
          ]
        }
      ],
      "source": [
        "from sklearn.preprocessing import LabelBinarizer\n",
        "from sklearn.neighbors import KNeighborsClassifier\n",
        "x_test = np.array([[30,10],\n",
        "                   [28,13],\n",
        "                   [29,9],\n",
        "                   [31,12],\n",
        "                   [27,8]\n",
        "                   ])\n",
        "y_test = ['Stay','Go','Go','Stay','Go']\n",
        "\n",
        "y_testbin = lb.transform(y_test)\n",
        "print('label biner:%s' %y_testbin.T[0])\n",
        "\n",
        "k=3\n",
        "clf = KNeighborsClassifier(n_neighbors=k)\n",
        "clf.fit(x_train,y_trainbin.reshape(-1))\n",
        "pred_bin = clf.predict(x_test)\n",
        "pred_label = lb.inverse_transform(pred_bin)\n",
        "print(pred_label)"
      ]
    },
    {
      "cell_type": "code",
      "execution_count": 36,
      "metadata": {
        "colab": {
          "base_uri": "https://localhost:8080/"
        },
        "id": "Y78kWaABDvBN",
        "outputId": "c48adc7b-8ec2-4897-f126-da5a1fc3fe8f"
      },
      "outputs": [
        {
          "name": "stdout",
          "output_type": "stream",
          "text": [
            "akurasi: 0.8\n"
          ]
        }
      ],
      "source": [
        "from sklearn.metrics import accuracy_score\n",
        "print('akurasi: %s' % accuracy_score(y_testbin,pred_bin))"
      ]
    },
    {
      "cell_type": "code",
      "execution_count": 37,
      "metadata": {
        "colab": {
          "base_uri": "https://localhost:8080/"
        },
        "id": "b6IYuIOsEK9Y",
        "outputId": "621a69de-d372-4b1f-c3d6-992e0ce1edf6"
      },
      "outputs": [
        {
          "name": "stdout",
          "output_type": "stream",
          "text": [
            "presisi: 1.0\n"
          ]
        }
      ],
      "source": [
        "from sklearn.metrics import precision_score\n",
        "print('presisi: %s' % precision_score(y_testbin,pred_bin))"
      ]
    },
    {
      "cell_type": "code",
      "execution_count": 38,
      "metadata": {
        "colab": {
          "base_uri": "https://localhost:8080/"
        },
        "id": "Z1fVc-PgEdgK",
        "outputId": "e1aec610-dbfb-4ffa-84ae-3dd58e25b9d5"
      },
      "outputs": [
        {
          "name": "stdout",
          "output_type": "stream",
          "text": [
            "recall: 0.5\n"
          ]
        }
      ],
      "source": [
        "from sklearn.metrics import recall_score\n",
        "print('recall: %s' % recall_score(y_testbin,pred_bin))"
      ]
    }
  ],
  "metadata": {
    "colab": {
      "provenance": []
    },
    "kernelspec": {
      "display_name": "Python 3.10.0 64-bit",
      "language": "python",
      "name": "python3"
    },
    "language_info": {
      "codemirror_mode": {
        "name": "ipython",
        "version": 3
      },
      "file_extension": ".py",
      "mimetype": "text/x-python",
      "name": "python",
      "nbconvert_exporter": "python",
      "pygments_lexer": "ipython3",
      "version": "3.10.0"
    },
    "vscode": {
      "interpreter": {
        "hash": "a9cff5a362bc38ef45d817ae74b1af54d6a076e3d773891282bce078b815ba34"
      }
    }
  },
  "nbformat": 4,
  "nbformat_minor": 0
}
